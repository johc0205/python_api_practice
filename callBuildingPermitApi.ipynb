{
  "nbformat": 4,
  "nbformat_minor": 0,
  "metadata": {
    "colab": {
      "provenance": [],
      "mount_file_id": "1h68y_89tXxd08WNpYSSIBQlSLmcJ6DL2",
      "authorship_tag": "ABX9TyN7+nB+KTS4WHlsKxk5Mnzo",
      "include_colab_link": true
    },
    "kernelspec": {
      "name": "python3",
      "display_name": "Python 3"
    },
    "language_info": {
      "name": "python"
    }
  },
  "cells": [
    {
      "cell_type": "markdown",
      "metadata": {
        "id": "view-in-github",
        "colab_type": "text"
      },
      "source": [
        "<a href=\"https://colab.research.google.com/github/johc0205/python_api_practice/blob/main/callBuildingPermitApi.ipynb\" target=\"_parent\"><img src=\"https://colab.research.google.com/assets/colab-badge.svg\" alt=\"Open In Colab\"/></a>"
      ]
    },
    {
      "cell_type": "code",
      "source": [
        "!pip install xmltodict"
      ],
      "metadata": {
        "colab": {
          "base_uri": "https://localhost:8080/"
        },
        "id": "8vbcmxT-f893",
        "outputId": "6fb5ee1c-20e6-4abc-bd17-fb18754398c0"
      },
      "execution_count": 1,
      "outputs": [
        {
          "output_type": "stream",
          "name": "stdout",
          "text": [
            "Collecting xmltodict\n",
            "  Downloading xmltodict-0.13.0-py2.py3-none-any.whl (10.0 kB)\n",
            "Installing collected packages: xmltodict\n",
            "Successfully installed xmltodict-0.13.0\n"
          ]
        }
      ]
    },
    {
      "cell_type": "markdown",
      "source": [
        "xml 태그 한글로 변경\n",
        "\n"
      ],
      "metadata": {
        "id": "Z3zO6TweYt4r"
      }
    },
    {
      "cell_type": "code",
      "source": [
        "import requests\n",
        "from urllib.parse import unquote\n",
        "import xmltodict\n",
        "import csv\n",
        "from google.colab import drive\n",
        "\n",
        "# 드라이브 마운트\n",
        "drive.mount('/content/drive')\n",
        "\n",
        "def getBubJungdong(api_key: str):\n",
        "    url = 'http://apis.data.go.kr/1741000/StanReginCd/getStanReginCdList'\n",
        "\n",
        "    params = {\n",
        "        'serviceKey': api_key,\n",
        "        'pageNo': '1',\n",
        "        'numOfRows': '40',\n",
        "        'locatadd_nm': '서울특별시 영등포구'\n",
        "    }\n",
        "\n",
        "    try:\n",
        "        response = requests.get(url, params=params)\n",
        "        response.raise_for_status()\n",
        "\n",
        "        if response.text:\n",
        "            xml_dict = xmltodict.parse(response.text)\n",
        "\n",
        "            result_list = []\n",
        "            for row in xml_dict.get('StanReginCd', {}).get('row', []):\n",
        "                data_dict = {\n",
        "                    'locatadd_nm': row.get('locatadd_nm'),\n",
        "                    'locatjumin_cd': row.get('locatjumin_cd')\n",
        "                }\n",
        "                result_list.append(data_dict)\n",
        "        return result_list\n",
        "\n",
        "    except requests.exceptions.HTTPError as errh:\n",
        "        print(\"HTTP 에러:\", errh)\n",
        "    except requests.exceptions.RequestException as err:\n",
        "        print(\"에러:\", err)\n",
        "\n",
        "def getBuildingPermit(sigunCd: str, bubjungdong: str, api_key: str):\n",
        "    url = \"http://apis.data.go.kr/1613000/ArchPmsService_v2/getApBasisOulnInfo\"\n",
        "\n",
        "    params = {\n",
        "        'ServiceKey': api_key,\n",
        "        'sigunguCd': sigunCd,\n",
        "        'bjdongCd': bubjungdong\n",
        "    }\n",
        "\n",
        "    try:\n",
        "        response = requests.get(url, params=params)\n",
        "        response.raise_for_status()\n",
        "        return response.text\n",
        "\n",
        "    except requests.exceptions.HTTPError as errh:\n",
        "        print(\"HTTP 에러:\", errh)\n",
        "    except requests.exceptions.RequestException as err:\n",
        "        print(\"에러:\", err)\n",
        "\n",
        "# 번역할 영어-한글 매핑 딕셔너리\n",
        "translation_mapping = {\n",
        "    'guyukCd': '구역코드',\n",
        "    'guyukCdNm': '구역코드명',\n",
        "    'jimokCd': '지목코드',\n",
        "    'jiyukCd': '지역코드',\n",
        "    'jiguCd': '지구코드',\n",
        "    'archGbCdNm': '건축구분코드',\n",
        "    'archGbCd': '건축구분코드명',\n",
        "    'platArea': '대지면적(㎡)',\n",
        "    'archArea': '건축면적(㎡)',\n",
        "    'bcRat': '건폐율(%)',\n",
        "    'totArea': '연면적(㎡)',\n",
        "    'vlRatEstmTotArea': '용적률산정연면적(㎡)',\n",
        "    'vlRat': '용적률(%)',\n",
        "    'mainBldCnt': '주건축물수',\n",
        "    'atchBldDongCnt': '부속건축물동수',\n",
        "    'mainPurpsCd': '주용도코드',\n",
        "    'mainPurpsCdNm': '주용도코드명',\n",
        "    'hhldCnt': '세대수(세대)',\n",
        "    'hoCnt': '호수(호)',\n",
        "    'fmlyCnt': '가구수(가구)',\n",
        "    'totPkngCnt': '총주차수',\n",
        "    'stcnsSchedDay': '착공예정일',\n",
        "    'stcnsDelayDay': '착공연기일',\n",
        "    'realStcnsDay': '실제착공일',\n",
        "    'archPmsDay': '건축허가일',\n",
        "    'useAprDay': '사용승인일',\n",
        "    'crtnDay': '생성일자',\n",
        "    'rnum': '순번',\n",
        "    'platPlc': '대지위치',\n",
        "    'sigunguCd': '시군구코드',\n",
        "    'bjdongCd': '법정동코드',\n",
        "    'platGbCd': '대지구분코드',\n",
        "    'bun': '번',\n",
        "    'ji': '지',\n",
        "    'mgmPmsrgstPk': '관리허가대장PK',\n",
        "    'bldNm': '건물명',\n",
        "    'splotNm': '특수지명',\n",
        "    'block': '블록',\n",
        "    'lot': '로트',\n",
        "    'jimokCdNm': '지목코드명',\n",
        "    'jiyukCdNm': '지역코드명',\n",
        "    'jiguCdNm': '지구코드명'\n",
        "}\n",
        "\n",
        "# API 키를 unquote 함수로 디코딩\n",
        "api_key = unquote(\"INSERT YOUR KEY\")\n",
        "siGunGu = {}\n",
        "bubJungDong = {}\n",
        "\n",
        "result_list = []\n",
        "\n",
        "# 함수 호출 및 결과 저장\n",
        "seoulCodeList = getBubJungdong(api_key)\n",
        "for sigungu in seoulCodeList:\n",
        "    sigungu_impl = sigungu['locatadd_nm'].split()\n",
        "\n",
        "    if len(sigungu_impl) == 2:\n",
        "        siGunGu[sigungu_impl[1]] = sigungu['locatjumin_cd'][0:5]\n",
        "    else:\n",
        "        if siGunGu.get(sigungu_impl[1]) is None:\n",
        "            siGunGu[sigungu_impl[1]] = sigungu['locatjumin_cd'][0:5]\n",
        "        bubJungDong[sigungu_impl[2]] = sigungu['locatjumin_cd'][5:]\n",
        "\n",
        "        # 건축인허가 정보 가져오기\n",
        "        result = getBuildingPermit(siGunGu[sigungu_impl[1]], sigungu['locatjumin_cd'][5:], api_key)\n",
        "        if result is not None:\n",
        "            result_dict = xmltodict.parse(result)\n",
        "            impl_list = []\n",
        "            for k in (result_dict['response']['body']['items']['item']):\n",
        "              translated_dict = {translation_mapping.get(key, key): value for key, value in k.items()}\n",
        "              impl_list.append(translated_dict)\n",
        "            result_dict['response']['body']['items']['item'] = impl_list\n",
        "            result_list.extend(result_dict['response']['body']['items']['item'])\n",
        "# CSV 파일에 쓰기\n",
        "csv_file_path = \"/content/drive/MyDrive/rpa_test/buildPermit_Yeongdeungpo.csv\"\n",
        "\n",
        "with open(csv_file_path, mode=\"w\", newline=\"\", encoding=\"utf-8\") as csv_file:\n",
        "    writer = csv.writer(csv_file)\n",
        "\n",
        "    # 헤더 쓰기\n",
        "    header_written = False\n",
        "\n",
        "    # 결과값 쓰기\n",
        "    for result_item in result_list:\n",
        "        if not header_written:\n",
        "            # 헤더 쓰기\n",
        "            writer.writerow(result_item.keys())\n",
        "            header_written = True\n",
        "\n",
        "        # 결과값 쓰기\n",
        "        writer.writerow(result_item.values())\n",
        "\n",
        "print(f\"CSV 파일이 {csv_file_path}에 생성되었습니다.\")\n"
      ],
      "metadata": {
        "colab": {
          "base_uri": "https://localhost:8080/"
        },
        "id": "ASn6wt2tYZEx",
        "outputId": "1eef19e4-c2d9-4935-d5b5-5b79707414d2"
      },
      "execution_count": 2,
      "outputs": [
        {
          "output_type": "stream",
          "name": "stdout",
          "text": [
            "Drive already mounted at /content/drive; to attempt to forcibly remount, call drive.mount(\"/content/drive\", force_remount=True).\n",
            "CSV 파일이 /content/drive/MyDrive/rpa_test/buildPermit_Yeongdeungpo.csv에 생성되었습니다.\n"
          ]
        }
      ]
    }
  ]
}